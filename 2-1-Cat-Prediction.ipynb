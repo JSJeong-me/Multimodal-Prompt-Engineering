{
  "nbformat": 4,
  "nbformat_minor": 0,
  "metadata": {
    "colab": {
      "provenance": [],
      "authorship_tag": "ABX9TyPaY2lVSldmKhnjGHMHuCxe",
      "include_colab_link": true
    },
    "kernelspec": {
      "name": "python3",
      "display_name": "Python 3"
    },
    "language_info": {
      "name": "python"
    }
  },
  "cells": [
    {
      "cell_type": "markdown",
      "metadata": {
        "id": "view-in-github",
        "colab_type": "text"
      },
      "source": [
        "<a href=\"https://colab.research.google.com/github/JSJeong-me/Prompt-Engineering/blob/main/2-1-Cat-Prediction.ipynb\" target=\"_parent\"><img src=\"https://colab.research.google.com/assets/colab-badge.svg\" alt=\"Open In Colab\"/></a>"
      ]
    },
    {
      "cell_type": "code",
      "execution_count": null,
      "metadata": {
        "id": "c0rrVrxG__bm"
      },
      "outputs": [],
      "source": [
        "import torch\n",
        "import torch.nn as nn\n",
        "from torchvision import models\n",
        "\n",
        "# 사전 학습된 VGG16 모델 로드\n",
        "model = models.vgg16(pretrained=True)\n",
        "\n",
        "# VGG16의 마지막 분류기 레이어 (classifier) 수정\n",
        "# 기본적으로 VGG16의 classifier는 (4096 -> 4096 -> 1000) 형태로 되어 있습니다.\n",
        "# 이를 (4096 -> 4096 -> 2)로 수정합니다.\n",
        "\n",
        "model.classifier[6] = nn.Linear(4096, 2)\n",
        "\n",
        "# 모델 수정 후 출력 확인\n",
        "print(model)"
      ]
    },
    {
      "cell_type": "code",
      "source": [
        "\n",
        "\n",
        "# 예시 입력 데이터\n",
        "input_data = torch.randn(1, 3, 224, 224)\n",
        "\n",
        "# 모델을 통해 예측값 출력\n",
        "output = model(input_data)\n",
        "print(output)\n"
      ],
      "metadata": {
        "id": "1R9pMQeEAF4G"
      },
      "execution_count": null,
      "outputs": []
    },
    {
      "cell_type": "code",
      "source": [
        "!wget https://github.com/JSJeong-me/Generate_AI_for_Image/raw/main/images/cat1.png"
      ],
      "metadata": {
        "id": "S3i7EqC0BK8k"
      },
      "execution_count": null,
      "outputs": []
    },
    {
      "cell_type": "code",
      "source": [
        "import torch\n",
        "import torch.nn as nn\n",
        "from torchvision import models, transforms\n",
        "from PIL import Image\n",
        "import requests\n",
        "from io import BytesIO\n",
        "\n",
        "# 이미지 다운로드 (cat1.png 파일을 다운로드)\n",
        "# !wget https://github.com/JSJeong-me/Generate_AI_for_Image/raw/main/images/cat1.png -O cat1.png\n",
        "\n",
        "# 이미지 불러오기 및 RGB로 변환\n",
        "image = Image.open('cat1.png').convert('RGB')\n",
        "\n",
        "# 이미지 전처리\n",
        "preprocess = transforms.Compose([\n",
        "    transforms.Resize(256),\n",
        "    transforms.CenterCrop(224),\n",
        "    transforms.ToTensor(),\n",
        "    transforms.Normalize(mean=[0.485, 0.456, 0.406], std=[0.229, 0.224, 0.225]),\n",
        "])\n",
        "\n",
        "# 이미지 텐서로 변환\n",
        "input_tensor = preprocess(image)\n",
        "input_batch = input_tensor.unsqueeze(0)  # 배치 차원 추가\n",
        "\n",
        "# GPU가 사용 가능하다면, 모델과 데이터를 GPU로 이동\n",
        "device = torch.device(\"cuda\" if torch.cuda.is_available() else \"cpu\")\n",
        "\n",
        "# 사전 학습된 VGG16 모델 불러오기\n",
        "model = models.vgg16(pretrained=True)\n",
        "\n",
        "# 모델의 마지막 레이어를 고양이와 개를 구별하도록 수정\n",
        "model.classifier[6] = nn.Linear(4096, 2)\n",
        "\n",
        "# 모델을 평가 모드로 설정\n",
        "model.eval()\n",
        "\n",
        "# 모델을 장치로 이동\n",
        "model.to(device)\n",
        "input_batch = input_batch.to(device)\n",
        "\n",
        "# 예측\n",
        "with torch.no_grad():\n",
        "    output = model(input_batch)\n",
        "    probabilities = torch.nn.functional.softmax(output[0], dim=0)\n",
        "\n",
        "# 결과 출력\n",
        "categories = ['cat', 'dog']\n",
        "_, predicted_idx = torch.max(probabilities, 0)\n",
        "\n",
        "print(f\"Predicted: {categories[predicted_idx]}\")\n"
      ],
      "metadata": {
        "id": "0LD0q3HNB-sU"
      },
      "execution_count": null,
      "outputs": []
    }
  ]
}