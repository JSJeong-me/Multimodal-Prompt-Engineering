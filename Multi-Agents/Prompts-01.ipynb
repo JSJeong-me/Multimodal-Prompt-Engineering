{
  "nbformat": 4,
  "nbformat_minor": 0,
  "metadata": {
    "colab": {
      "provenance": [],
      "authorship_tag": "ABX9TyPgka+YwMCQIR8LTStgExUV",
      "include_colab_link": true
    },
    "kernelspec": {
      "name": "python3",
      "display_name": "Python 3"
    },
    "language_info": {
      "name": "python"
    }
  },
  "cells": [
    {
      "cell_type": "markdown",
      "metadata": {
        "id": "view-in-github",
        "colab_type": "text"
      },
      "source": [
        "<a href=\"https://colab.research.google.com/github/JSJeong-me/Prompt-Engineering/blob/main/Multi-Agents/Prompts-01.ipynb\" target=\"_parent\"><img src=\"https://colab.research.google.com/assets/colab-badge.svg\" alt=\"Open In Colab\"/></a>"
      ]
    },
    {
      "cell_type": "code",
      "execution_count": 1,
      "metadata": {
        "colab": {
          "base_uri": "https://localhost:8080/"
        },
        "id": "3JNgZrgs3L5a",
        "outputId": "904a95c1-16a4-48aa-c744-5e2a5fd8bb44"
      },
      "outputs": [
        {
          "output_type": "stream",
          "name": "stdout",
          "text": [
            "Team(name='Cybersecurity Defense Team', agents=[Agent(name='Threat Intelligence Analyzer', role='Cybersecurity Expert', goal='Identify and categorize potential cybersecurity threats.', background='Specialized in cyber threat intelligence and risk assessment.'), Agent(name='Incident Responder', role='Security Response Specialist', goal='Recommend mitigation strategies based on identified threats.', background='Expert in incident response and cybersecurity defense.'), Agent(name='Security Report Compiler', role='Automated Security Analyst', goal='Compile structured security insights for executive review.', background='Generates comprehensive cybersecurity reports based on analyzed threats.')], tasks=[Task(name='analyze_threats', description='Extracts and categorizes cybersecurity threats from intelligence sources.', agent=Agent(name='Threat Intelligence Analyzer', role='Cybersecurity Expert', goal='Identify and categorize potential cybersecurity threats.', background='Specialized in cyber threat intelligence and risk assessment.')), Task(name='mitigate_threats', description='Develops a mitigation plan based on identified cybersecurity threats.', agent=Agent(name='Incident Responder', role='Security Response Specialist', goal='Recommend mitigation strategies based on identified threats.', background='Expert in incident response and cybersecurity defense.')), Task(name='compile_security_report', description='Compiles a structured cybersecurity threat report.', agent=Agent(name='Security Report Compiler', role='Automated Security Analyst', goal='Compile structured security insights for executive review.', background='Generates comprehensive cybersecurity reports based on analyzed threats.'))], inputs={'source': 'Global Threat Intelligence Database'})\n"
          ]
        }
      ],
      "source": [
        "from dataclasses import dataclass, field\n",
        "from typing import List, Dict\n",
        "\n",
        "@dataclass\n",
        "class Agent:\n",
        "    name: str\n",
        "    role: str\n",
        "    goal: str\n",
        "    background: str\n",
        "\n",
        "@dataclass\n",
        "class Task:\n",
        "    name: str\n",
        "    description: str\n",
        "    agent: Agent\n",
        "\n",
        "@dataclass\n",
        "class Team:\n",
        "    name: str\n",
        "    agents: List[Agent]\n",
        "    tasks: List[Task]\n",
        "    inputs: Dict[str, str]\n",
        "\n",
        "# Threat Intelligence Agent\n",
        "threat_intel = Agent(\n",
        "    name='Threat Intelligence Analyzer',\n",
        "    role='Cybersecurity Expert',\n",
        "    goal='Identify and categorize potential cybersecurity threats.',\n",
        "    background='Specialized in cyber threat intelligence and risk assessment.'\n",
        ")\n",
        "\n",
        "analyze_threats = Task(\n",
        "    name='analyze_threats',\n",
        "    description='Extracts and categorizes cybersecurity threats from intelligence sources.',\n",
        "    agent=threat_intel\n",
        ")\n",
        "\n",
        "# Incident Response Agent\n",
        "incident_response = Agent(\n",
        "    name='Incident Responder',\n",
        "    role='Security Response Specialist',\n",
        "    goal='Recommend mitigation strategies based on identified threats.',\n",
        "    background='Expert in incident response and cybersecurity defense.'\n",
        ")\n",
        "\n",
        "mitigate_threats = Task(\n",
        "    name='mitigate_threats',\n",
        "    description='Develops a mitigation plan based on identified cybersecurity threats.',\n",
        "    agent=incident_response\n",
        ")\n",
        "\n",
        "# Security Report Compiler Agent\n",
        "security_report = Agent(\n",
        "    name='Security Report Compiler',\n",
        "    role='Automated Security Analyst',\n",
        "    goal='Compile structured security insights for executive review.',\n",
        "    background='Generates comprehensive cybersecurity reports based on analyzed threats.'\n",
        ")\n",
        "\n",
        "compile_report = Task(\n",
        "    name='compile_security_report',\n",
        "    description='Compiles a structured cybersecurity threat report.',\n",
        "    agent=security_report\n",
        ")\n",
        "\n",
        "# Define Team and Execution Order\n",
        "security_team = Team(\n",
        "    name='Cybersecurity Defense Team',\n",
        "    agents=[threat_intel, incident_response, security_report],\n",
        "    tasks=[analyze_threats, mitigate_threats, compile_report],\n",
        "    inputs={'source': 'Global Threat Intelligence Database'}\n",
        ")\n",
        "\n",
        "print(security_team)\n"
      ]
    }
  ]
}